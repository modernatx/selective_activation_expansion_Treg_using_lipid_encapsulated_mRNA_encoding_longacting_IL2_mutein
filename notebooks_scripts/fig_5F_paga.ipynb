{
 "cells": [
  {
   "cell_type": "markdown",
   "id": "sorted-champion",
   "metadata": {},
   "source": [
    "## Set-up and installations"
   ]
  },
  {
   "cell_type": "code",
   "execution_count": null,
   "id": "isolated-uruguay",
   "metadata": {},
   "outputs": [],
   "source": [
    "# Python2 kernel\n",
    "%%bash\n",
    "pip install anndata2ri\n",
    "conda install seaborn scikit-learn statsmodels numba pytables\n",
    "conda install -c conda-forge python-igraph leidenalg"
   ]
  },
  {
   "cell_type": "markdown",
   "id": "royal-enclosure",
   "metadata": {},
   "source": [
    "## Import Treg data from R to Python"
   ]
  },
  {
   "cell_type": "code",
   "execution_count": null,
   "id": "classified-vancouver",
   "metadata": {},
   "outputs": [],
   "source": [
    "import anndata2ri\n",
    "anndata2ri.activate()\n",
    "%load_ext rpy2.ipython"
   ]
  },
  {
   "cell_type": "code",
   "execution_count": null,
   "id": "north-rebecca",
   "metadata": {},
   "outputs": [],
   "source": [
    "%%R -o adata_sce\n",
    "library(scran)\n",
    "sce <- readRDS(file = \"./data/sce.rds\")\n",
    "sce_sub = sce[,which(colData(sce)$macro_label == \"Treg\")]\n",
    "adata_sce <- as(sce_sub, 'SingleCellExperiment')\n",
    "print(adata_sce)"
   ]
  },
  {
   "cell_type": "markdown",
   "id": "chicken-locator",
   "metadata": {},
   "source": [
    "## PAGA settings "
   ]
  },
  {
   "cell_type": "code",
   "execution_count": null,
   "id": "intense-alberta",
   "metadata": {},
   "outputs": [],
   "source": [
    "import numpy as np\n",
    "import pandas as pd\n",
    "import matplotlib.pyplot as pl\n",
    "from matplotlib import rcParamsOrig\n",
    "import scanpy as sc"
   ]
  },
  {
   "cell_type": "code",
   "execution_count": null,
   "id": "normal-overall",
   "metadata": {},
   "outputs": [],
   "source": [
    "sc.settings.verbosity = 3  # verbosity: errors (0), warnings (1), info (2), hints (3)\n",
    "sc.logging.print_versions()\n",
    "results_file = './write/paga.h5ad'\n",
    "sc.settings.set_figure_params(dpi=80, frameon=False, figsize=(3, 3), facecolor='white')  # low dpi (dots per inch) yields small inline figures"
   ]
  },
  {
   "cell_type": "code",
   "execution_count": null,
   "id": "heavy-lebanon",
   "metadata": {},
   "outputs": [],
   "source": [
    "adata_sce.X = adata_sce.X.astype('float64')  # this is not required and results will be comparable without it"
   ]
  },
  {
   "cell_type": "markdown",
   "id": "jewish-profession",
   "metadata": {},
   "source": [
    "## Preprocess Treg data with standard PAGA pipeline"
   ]
  },
  {
   "cell_type": "code",
   "execution_count": null,
   "id": "spanish-completion",
   "metadata": {},
   "outputs": [],
   "source": [
    "sc.pp.recipe_zheng17(adata_sce)"
   ]
  },
  {
   "cell_type": "code",
   "execution_count": null,
   "id": "ambient-poland",
   "metadata": {},
   "outputs": [],
   "source": [
    "adata_sce"
   ]
  },
  {
   "cell_type": "markdown",
   "id": "complete-territory",
   "metadata": {},
   "source": [
    "## PAGA"
   ]
  },
  {
   "cell_type": "markdown",
   "id": "living-patient",
   "metadata": {},
   "source": [
    "### Diffusion Map for dimensionality reduction"
   ]
  },
  {
   "cell_type": "code",
   "execution_count": null,
   "id": "genetic-format",
   "metadata": {},
   "outputs": [],
   "source": [
    "sc.pp.neighbors(adata_sce, n_neighbors = 30, n_pcs =20)\n",
    "#sc.tl.diffmap(adata_sce)"
   ]
  },
  {
   "cell_type": "code",
   "execution_count": null,
   "id": "soviet-somewhere",
   "metadata": {},
   "outputs": [],
   "source": [
    "#sc.pp.neighbors(adata_sce, n_neighbors=5, use_rep='X_diffmap')\n",
    "sc.tl.draw_graph(adata_sce)\n",
    "\n",
    "import matplotlib.pyplot as plt\n",
    "plt.rcParams['figure.figsize'] = [6, 6]\n",
    "sc.pl.draw_graph(adata_sce, color='cluster_update_label', legend_loc='on data')"
   ]
  },
  {
   "cell_type": "markdown",
   "id": "ready-decrease",
   "metadata": {},
   "source": [
    "### Compute PAGA graph"
   ]
  },
  {
   "cell_type": "code",
   "execution_count": null,
   "id": "noticed-beverage",
   "metadata": {},
   "outputs": [],
   "source": [
    "sc.tl.paga(adata_sce, groups='cluster_update_label')\n",
    "sc.pl.paga(adata_sce, color='cluster_update_label')"
   ]
  },
  {
   "cell_type": "code",
   "execution_count": null,
   "id": "loving-justice",
   "metadata": {},
   "outputs": [],
   "source": [
    "print('Outputting cluster edges...')\n",
    "\n",
    "import os\n",
    "def con2edges(con, names=None, sparse=True):\n",
    "    print('Converting connectivity matrix to edges...')\n",
    "    n = con.shape[0]\n",
    "    edges = pd.DataFrame(columns=['From', 'To', 'Connectivity'])\n",
    "\n",
    "    for i in range(n):\n",
    "        for j in range(i + 1, n):\n",
    "            if names is not None:\n",
    "                fr = names[i]\n",
    "                to = names[j]\n",
    "            else:\n",
    "                fr = str(i)\n",
    "                to = str(j)\n",
    "\n",
    "            connectivity = con[i, j]\n",
    "            if sparse and connectivity == 0:\n",
    "                continue\n",
    "\n",
    "            entry = {'From' : fr, 'To' : to,\n",
    "                     'Connectivity' : con[i, j]}\n",
    "            edges = edges.append(entry, ignore_index=True)\n",
    "\n",
    "    return edges\n",
    "\n",
    "clust_con = adata_sce.uns['paga']['connectivities'].toarray()\n",
    "clust_edges = con2edges(clust_con, names = ['aTreg', 'Tfr', 'OxTreg', 'ST2 Treg', 'ST2 mTreg', 'mTreg'])\n",
    "clust_edges.to_csv(os.path.join(\"./output/paga/\", 'cluster_edges.csv'),\n",
    "                  index=False)\n",
    "\n",
    "print('Outputting cluster embedding...')\n",
    "clust_embedding = pd.DataFrame(adata_sce.uns['paga']['pos'], columns=['X', 'Y'])\n",
    "#clust_embedding['cluster_update_label'] = range(clust_embedding.shape[0])\n",
    "clust_embedding['cluster_update_label'] = ['aTreg', 'Tfr', 'OxTreg', 'ST2 Treg', 'ST2 mTreg', 'mTreg']\n",
    "clust_embedding = clust_embedding[['cluster_update_label', 'X', 'Y']]\n",
    "clust_embedding.to_csv(os.path.join(\"/home/chsiao/IL2_timecourse/output/paga/\", 'cluster_embedding.csv'),\n",
    "                       index=False)\n",
    "\n",
    "print('Outputting cell embedding...')\n",
    "x = adata_sce.obsm['X_draw_graph_fa'][:, 0]\n",
    "y = adata_sce.obsm['X_draw_graph_fa'][:, 1]\n",
    "cell_embedding = pd.DataFrame({'Cell' : cells, 'X' : x, 'Y' : y})\n",
    "cell_embedding.to_csv(os.path.join(\"./output/paga/\", 'cell_embedding.csv'),\n",
    "                      index=False)"
   ]
  },
  {
   "cell_type": "code",
   "execution_count": null,
   "id": "familiar-lingerie",
   "metadata": {},
   "outputs": [],
   "source": [
    "%%R\n",
    "library(tidyverse)\n",
    "clust_edges = read.table(\"./output/paga/cluster_edges.csv\", header = TRUE, sep = \",\")\n",
    "plot_data <- tibble(\n",
    "    Threshold = seq(0, 1, 0.01)\n",
    ") %>%\n",
    "    mutate(Edges = map_int(Threshold, function(thresh) {\n",
    "        sum(clust_edges$Connectivity > thresh)\n",
    "    }))\n",
    "\n",
    "con_thresh <- 0.5\n",
    "\n",
    "ggplot(plot_data, aes(x = Threshold, y = Edges)) +\n",
    "    geom_point() +\n",
    "    geom_line() +\n",
    "    geom_vline(xintercept = con_thresh, colour = \"red\") +\n",
    "    xlab(\"Connectivity threshold\") +\n",
    "    ylab(\"Number of edges\") +\n",
    "    theme_minimal()"
   ]
  },
  {
   "cell_type": "code",
   "execution_count": null,
   "id": "pressed-trash",
   "metadata": {},
   "outputs": [],
   "source": [
    "%%R\n",
    "library(tidyverse)\n",
    "library(knitr)\n",
    "cluster_edges = read.table(\"./output/paga/cluster_edges.csv\", header = TRUE, sep = \",\")\n",
    "cluster_embedding = read.table(\"./output/paga/cluster_embedding.csv\", header = TRUE, sep = \",\")\n",
    "\n",
    "plotPAGAClustGraph <- function(embedding, edges, thresh = 0,\n",
    "                               colour = \"cluster_update_label\") {\n",
    "\n",
    "    is_discrete <- is.factor(embedding[[colour]])\n",
    "\n",
    "    gg <- ggplot(embedding, aes(x = X, y = Y))\n",
    "\n",
    "    if (is_discrete) {\n",
    "        gg <- gg +\n",
    "            geom_segment(data = filter(edges, Connectivity > thresh),\n",
    "                         aes(x = FromX, y = FromY, xend = ToX, yend = ToY,\n",
    "                             colour = Connectivity),\n",
    "                         size = 4) +\n",
    "            scale_colour_viridis_c(limits = c(0, 1))\n",
    "    } else {\n",
    "        gg <- gg +\n",
    "            geom_segment(data = filter(edges, Connectivity > thresh),\n",
    "                         aes(x = FromX, y = FromY, xend = ToX, yend = ToY,\n",
    "                             alpha = Connectivity),\n",
    "                         size = 4, colour = \"grey30\") +\n",
    "            scale_alpha(limits = c(0, 1)) +\n",
    "            scale_fill_viridis_c()\n",
    "    }\n",
    "\n",
    "    gg <- gg +\n",
    "        geom_point(aes(fill = !!ensym(colour), size = Size), shape = 21) +\n",
    "        geom_text(aes(label = Cluster)) +\n",
    "        scale_size(range = c(5, 15)) +\n",
    "        theme_void() +\n",
    "        theme(legend.position = \"none\")\n",
    "\n",
    "    return(gg)\n",
    "}\n",
    "#src_list <- lapply(seq(0, 0.9, 0.1), function(thresh) {\n",
    "#    src <- c(\n",
    "#        \"### Con {{thresh}} {.unnumbered}\",\n",
    "#        \"```{r clust-paga-{{thresh}}}\",\n",
    "#        \"plotPAGAClustGraph(clust_embedding, clust_edges, thresh = {{thresh}})\",  \n",
    "#        \"```\",\n",
    "#        \"\"\n",
    "#    )\n",
    "#    knit_expand(text = src)\n",
    "#})\n",
    "plotPAGAClustGraph(cluster_embedding, cluster_edges, thresh = 0.1)\n",
    "\n",
    "#out <- knit_child(text = unlist(src_list), options = list(cache = FALSE))"
   ]
  },
  {
   "cell_type": "markdown",
   "id": "brave-correction",
   "metadata": {},
   "source": [
    "Recompute the graph using PAGA initialization"
   ]
  },
  {
   "cell_type": "code",
   "execution_count": null,
   "id": "posted-projection",
   "metadata": {},
   "outputs": [],
   "source": [
    "sc.pl.paga(adata_sce, color='cluster_update_label', threshold = 0.2)\n",
    "plt.savefig(\"./figs/paga.eps', format='eps')"
   ]
  },
  {
   "cell_type": "code",
   "execution_count": null,
   "id": "bridal-remark",
   "metadata": {},
   "outputs": [],
   "source": [
    "%%R\n",
    "library(igraph)\n",
    "library(tidyverse)\n",
    "library(knitr)\n",
    "links = read.table(\"./output/paga/cluster_edges.csv\", header = TRUE, sep = \",\", as.is = TRUE)\n",
    "\n",
    "links <- aggregate(cluster_edges[,3], cluster_edges[,-3], sum)\n",
    "links <- links[order(links$From, links$To),]\n",
    "colnames(links)[3] <- \"weight\"\n",
    "rownames(links) <- NULL\n",
    "\n",
    "nodes = data.frame(id = c(\"aTreg\", \"Tfr\", \"OxTreg\", \"ST2 Treg\", \"ST2 mTreg\", \"mTreg\"))\n",
    "\n",
    "links = links[links$weight > .2,]\n",
    "net <- graph_from_data_frame(d=links, vertices = nodes, directed = F) \n",
    "\n",
    "cols = RColorBrewer::brewer.pal(n = 8, name = 'Dark2')\n",
    "Treg_cols = c(cols[2], cols[6], cols[3], cols[4], cols[5], cols[1])\n",
    "\n",
    "cairo_ps(filename = \"/home/chsiao/IL2_timecourse/figs/paper/paga.eps\",\n",
    "         width = 4, height = 4, pointsize = 8,\n",
    "         fallback_resolution = 300)\n",
    "plot(net, vertex.label.dist=2.1, \n",
    "     vertex.color = Treg_cols, \n",
    "     vertex.label.color = \"black\", \n",
    "     vertex.label.cex = 1.2, vertex.label.family = \"Arial\",\n",
    "     edge.label = round(links$weight,2),\n",
    "     edge.label.color = \"black\", edge.label.family = \"Arial\",\n",
    "     edge.width = round(links$weight,2)*8)\n",
    "dev.off()\n",
    "#net$vertex.label"
   ]
  },
  {
   "cell_type": "code",
   "execution_count": null,
   "id": "extensive-stuart",
   "metadata": {},
   "outputs": [],
   "source": [
    "sc.tl.draw_graph(adata_sce, init_pos='paga')"
   ]
  },
  {
   "cell_type": "code",
   "execution_count": null,
   "id": "sustained-dinner",
   "metadata": {},
   "outputs": [],
   "source": [
    "sc.pl.draw_graph(adata_sce, color=['cluster_update_label'], legend_loc='on data')"
   ]
  },
  {
   "cell_type": "code",
   "execution_count": null,
   "id": "marked-slovenia",
   "metadata": {},
   "outputs": [],
   "source": [
    "sc.pl.embedding_density(adata_sce, basis = \"umap\", group = 'cluster_update_label')"
   ]
  },
  {
   "cell_type": "code",
   "execution_count": null,
   "id": "inside-landing",
   "metadata": {},
   "outputs": [],
   "source": [
    "for condition_day in ['utx_0', 'WT_2', 'WT_4', 'TM88_2', 'TM88_4']:\n",
    "    sc.pl.draw_graph(adata_sce, color=['cluster_update_label', 'Stmn1', 'Gzmb'], legend_loc='on data', groups = [condition_day])"
   ]
  },
  {
   "cell_type": "code",
   "execution_count": null,
   "id": "welsh-means",
   "metadata": {},
   "outputs": [],
   "source": [
    "# choose a root cell for diffusion pseudotime\n",
    "adata_sce.uns['iroot'] = np.flatnonzero(adata_sce.obs['cluster_update_label']  == 'aTreg')[0]"
   ]
  },
  {
   "cell_type": "code",
   "execution_count": null,
   "id": "important-turkish",
   "metadata": {},
   "outputs": [],
   "source": [
    "sc.tl.dpt(adata_sce)"
   ]
  },
  {
   "cell_type": "code",
   "execution_count": null,
   "id": "fitting-tribune",
   "metadata": {},
   "outputs": [],
   "source": [
    "gene_names = ['Stmn1', 'Nusap1', 'Gzmb', 'Top2a', 'Ccna2',  \n",
    "              'Ikzf2', 'Gpr83', 'Lrrc32',                   \n",
    "              'Atp5c1', 'Ndufv3', 'Cox4i1',\n",
    "              'Egr2', 'Bcl6', 'Il1rl1', 'Cxcr5', 'Icox'] "
   ]
  },
  {
   "cell_type": "code",
   "execution_count": null,
   "id": "fiscal-witch",
   "metadata": {},
   "outputs": [],
   "source": [
    "sc.pl.draw_graph(adata_sce, color=['cluster_update_label', 'dpt_pseudotime'], legend_loc='on data')"
   ]
  },
  {
   "cell_type": "code",
   "execution_count": null,
   "id": "continuous-browse",
   "metadata": {},
   "outputs": [],
   "source": [
    "#for condition_day in ['utx_0']:\n",
    "sc.pl.draw_graph(adata_sce[adata_sce.obs['condition_day'] == 'utx_0'], color=['cluster_update_label','dpt_pseudotime'], legend_loc='on data', title = \"utx_0\")\n",
    "sc.pl.draw_graph(adata_sce[adata_sce.obs['condition_day'] == 'WT_2'], color=['cluster_update_label','dpt_pseudotime'], legend_loc='on data', title = \"WT_2\")\n",
    "sc.pl.draw_graph(adata_sce[adata_sce.obs['condition_day'] == 'TM88_2'], color=['cluster_update_label','dpt_pseudotime'], legend_loc='on data', title = \"TM88_2\")\n",
    "sc.pl.draw_graph(adata_sce[adata_sce.obs['condition_day'] == 'WT_4'], color=['cluster_update_label','dpt_pseudotime'], legend_loc='on data', title = \"WT_4\")\n",
    "sc.pl.draw_graph(adata_sce[adata_sce.obs['condition_day'] == 'TM88_4'], color=['cluster_update_label','dpt_pseudotime'], legend_loc='on data', title = \"TM88_4\")"
   ]
  },
  {
   "cell_type": "code",
   "execution_count": null,
   "id": "naked-complex",
   "metadata": {},
   "outputs": [],
   "source": [
    "# choose a root cell for diffusion pseudotime\n",
    "adata_sce.uns['iroot'] = np.flatnonzero(adata_sce.obs['cluster_update_label']  == 'Tfr')[0]"
   ]
  },
  {
   "cell_type": "code",
   "execution_count": null,
   "id": "auburn-purchase",
   "metadata": {},
   "outputs": [],
   "source": [
    "sc.tl.dpt(adata_sce)"
   ]
  },
  {
   "cell_type": "code",
   "execution_count": null,
   "id": "satisfied-return",
   "metadata": {},
   "outputs": [],
   "source": [
    "sc.pl.draw_graph(adata_sce, color=['cluster_update_label', 'dpt_pseudotime'], legend_loc='on data')"
   ]
  },
  {
   "cell_type": "code",
   "execution_count": null,
   "id": "assisted-merchant",
   "metadata": {},
   "outputs": [],
   "source": [
    "#for condition_day in ['utx_0']:\n",
    "sc.pl.draw_graph(adata_sce[adata_sce.obs['condition_day'] == 'utx_0'], color=['cluster_update_label','dpt_pseudotime'], legend_loc='on data', title = \"utx_0\")\n",
    "sc.pl.draw_graph(adata_sce[adata_sce.obs['condition_day'] == 'WT_2'], color=['cluster_update_label','dpt_pseudotime'], legend_loc='on data', title = \"WT_2\")\n",
    "sc.pl.draw_graph(adata_sce[adata_sce.obs['condition_day'] == 'TM88_2'], color=['cluster_update_label','dpt_pseudotime'], legend_loc='on data', title = \"TM88_2\")\n",
    "sc.pl.draw_graph(adata_sce[adata_sce.obs['condition_day'] == 'WT_4'], color=['cluster_update_label','dpt_pseudotime'], legend_loc='on data', title = \"WT_4\")\n",
    "sc.pl.draw_graph(adata_sce[adata_sce.obs['condition_day'] == 'TM88_4'], color=['cluster_update_label','dpt_pseudotime'], legend_loc='on data', title = \"TM88_4\")"
   ]
  },
  {
   "cell_type": "code",
   "execution_count": null,
   "id": "intimate-niger",
   "metadata": {},
   "outputs": [],
   "source": [
    "sc.tl.embedding_density(adata_sce, groupby='cluster_update_label')"
   ]
  },
  {
   "cell_type": "code",
   "execution_count": null,
   "id": "incorrect-majority",
   "metadata": {},
   "outputs": [],
   "source": [
    "sc.pl.embedding_density(adata_sce, groupby='cluster_update_label')"
   ]
  },
  {
   "cell_type": "code",
   "execution_count": null,
   "id": "complimentary-needle",
   "metadata": {},
   "outputs": [],
   "source": [
    "#sc.pl.draw_graph(adata_sce[adata_sce.obs['condition_day'] == 'utx_0'], color=['Stmn1', 'Gzmb'], legend_loc='on data')\n",
    "#sc.pl.draw_graph(adata_sce[adata_sce.obs['condition_day'] == 'WT_2'], color=['Stmn1', 'Gzmb'], legend_loc='on data')\n",
    "sc.pl.draw_graph(adata_sce[adata_sce.obs['condition_day'] == 'TM88_2'], color=['Stmn1', 'Gzmb'], legend_loc='on data')\n",
    "#sc.pl.draw_graph(adata_sce[adata_sce.obs['condition_day'] == 'WT_4'], color=['Stmn1', 'Gzmb'], legend_loc='on data', title = \"WT_4\")\n",
    "#sc.pl.draw_graph(adata_sce[adata_sce.obs['condition_day'] == 'TM88_4'], color=['Stmn1', 'Gzmb'], legend_loc='on data', title = \"TM88_4\")"
   ]
  }
 ],
 "metadata": {
  "kernelspec": {
   "display_name": "Python 2",
   "language": "python",
   "name": "python2"
  },
  "language_info": {
   "codemirror_mode": {
    "name": "ipython",
    "version": 3
   },
   "file_extension": ".py",
   "mimetype": "text/x-python",
   "name": "python",
   "nbconvert_exporter": "python",
   "pygments_lexer": "ipython3",
   "version": "3.9.7"
  }
 },
 "nbformat": 4,
 "nbformat_minor": 5
}
